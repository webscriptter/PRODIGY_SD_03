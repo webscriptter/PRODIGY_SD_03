{
 "cells": [
  {
   "cell_type": "markdown",
   "id": "97144e0a-97c5-426e-8675-75a0034ec7d2",
   "metadata": {},
   "source": [
    "### Contact Management System"
   ]
  },
  {
   "cell_type": "code",
   "execution_count": null,
   "id": "2f20db71",
   "metadata": {
    "tags": []
   },
   "outputs": [
    {
     "name": "stdout",
     "output_type": "stream",
     "text": [
      "\n",
      "Contact Management System\n",
      "1. Add Contact\n",
      "2. View Contacts\n",
      "3. Edit Contact\n",
      "4. Delete Contact\n",
      "5. Save Contacts to File\n",
      "6. Load Contacts from File\n",
      "7. Quit\n"
     ]
    },
    {
     "name": "stdin",
     "output_type": "stream",
     "text": [
      "Enter your choice (1-7):  1\n",
      "Enter Name:  Suyash\n",
      "Enter Phone Number:  0000000000\n",
      "Enter Email Address:  suyash@gmail.com\n"
     ]
    },
    {
     "name": "stdout",
     "output_type": "stream",
     "text": [
      "\n",
      "Contact Management System\n",
      "1. Add Contact\n",
      "2. View Contacts\n",
      "3. Edit Contact\n",
      "4. Delete Contact\n",
      "5. Save Contacts to File\n",
      "6. Load Contacts from File\n",
      "7. Quit\n"
     ]
    },
    {
     "name": "stdin",
     "output_type": "stream",
     "text": [
      "Enter your choice (1-7):  2\n"
     ]
    },
    {
     "name": "stdout",
     "output_type": "stream",
     "text": [
      "1. Name: Suyash, Phone: 0000000000, Email: suyash@gmail.com\n",
      "\n",
      "Contact Management System\n",
      "1. Add Contact\n",
      "2. View Contacts\n",
      "3. Edit Contact\n",
      "4. Delete Contact\n",
      "5. Save Contacts to File\n",
      "6. Load Contacts from File\n",
      "7. Quit\n"
     ]
    },
    {
     "name": "stdin",
     "output_type": "stream",
     "text": [
      "Enter your choice (1-7):  3\n",
      "Enter the index of the contact to edit:  1\n",
      "Enter New Name:  Suyash\n",
      "Enter New Phone Number:  000000000\n",
      "Enter New Email Address:  Suyash@gmail.com\n"
     ]
    },
    {
     "name": "stdout",
     "output_type": "stream",
     "text": [
      "Contact updated successfully.\n",
      "\n",
      "Contact Management System\n",
      "1. Add Contact\n",
      "2. View Contacts\n",
      "3. Edit Contact\n",
      "4. Delete Contact\n",
      "5. Save Contacts to File\n",
      "6. Load Contacts from File\n",
      "7. Quit\n"
     ]
    },
    {
     "name": "stdin",
     "output_type": "stream",
     "text": [
      "Enter your choice (1-7):  2\n"
     ]
    },
    {
     "name": "stdout",
     "output_type": "stream",
     "text": [
      "1. Name: Suyash, Phone: 000000000, Email: Suyash@gmail.com\n",
      "\n",
      "Contact Management System\n",
      "1. Add Contact\n",
      "2. View Contacts\n",
      "3. Edit Contact\n",
      "4. Delete Contact\n",
      "5. Save Contacts to File\n",
      "6. Load Contacts from File\n",
      "7. Quit\n"
     ]
    },
    {
     "name": "stdin",
     "output_type": "stream",
     "text": [
      "Enter your choice (1-7):  4\n",
      "Enter the index of the contact to delete:  1\n"
     ]
    },
    {
     "name": "stdout",
     "output_type": "stream",
     "text": [
      "Contact deleted successfully.\n",
      "\n",
      "Contact Management System\n",
      "1. Add Contact\n",
      "2. View Contacts\n",
      "3. Edit Contact\n",
      "4. Delete Contact\n",
      "5. Save Contacts to File\n",
      "6. Load Contacts from File\n",
      "7. Quit\n"
     ]
    }
   ],
   "source": [
    "import json\n",
    "\n",
    "# Define a list to store contact information\n",
    "contacts = []\n",
    "\n",
    "# Define functions to perform various actions\n",
    "def add_contact(name, phone, email):\n",
    "    contact = {\"name\": name, \"phone\": phone, \"email\": email}\n",
    "    contacts.append(contact)\n",
    "\n",
    "def view_contacts():\n",
    "    for index, contact in enumerate(contacts):\n",
    "        print(f\"{index + 1}. Name: {contact['name']}, Phone: {contact['phone']}, Email: {contact['email']}\")\n",
    "\n",
    "def edit_contact(index, name, phone, email):\n",
    "    if 0 <= index < len(contacts):\n",
    "        contacts[index][\"name\"] = name\n",
    "        contacts[index][\"phone\"] = phone\n",
    "        contacts[index][\"email\"] = email\n",
    "        print(\"Contact updated successfully.\")\n",
    "    else:\n",
    "        print(\"Invalid index. Contact not found.\")\n",
    "\n",
    "def delete_contact(index):\n",
    "    if 0 <= index < len(contacts):\n",
    "        del contacts[index]\n",
    "        print(\"Contact deleted successfully.\")\n",
    "    else:\n",
    "        print(\"Invalid index. Contact not found.\")\n",
    "\n",
    "def save_contacts_to_file(filename):\n",
    "    with open(filename, \"w\") as file:\n",
    "        json.dump(contacts, file)\n",
    "\n",
    "def load_contacts_from_file(filename):\n",
    "    global contacts\n",
    "    try:\n",
    "        with open(filename, \"r\") as file:\n",
    "            contacts = json.load(file)\n",
    "    except FileNotFoundError:\n",
    "        print(\"No contacts found in the file.\")\n",
    "\n",
    "# Main program loop\n",
    "while True:\n",
    "    print(\"\\nContact Management System\")\n",
    "    print(\"1. Add Contact\")\n",
    "    print(\"2. View Contacts\")\n",
    "    print(\"3. Edit Contact\")\n",
    "    print(\"4. Delete Contact\")\n",
    "    print(\"5. Save Contacts to File\")\n",
    "    print(\"6. Load Contacts from File\")\n",
    "    print(\"7. Quit\")\n",
    "\n",
    "    choice = input(\"Enter your choice (1-7): \")\n",
    "\n",
    "    if choice == \"1\":\n",
    "        name = input(\"Enter Name: \")\n",
    "        phone = input(\"Enter Phone Number: \")\n",
    "        email = input(\"Enter Email Address: \")\n",
    "        add_contact(name, phone, email)\n",
    "    elif choice == \"2\":\n",
    "        view_contacts()\n",
    "    elif choice == \"3\":\n",
    "        index = int(input(\"Enter the index of the contact to edit: \")) - 1\n",
    "        name = input(\"Enter New Name: \")\n",
    "        phone = input(\"Enter New Phone Number: \")\n",
    "        email = input(\"Enter New Email Address: \")\n",
    "        edit_contact(index, name, phone, email)\n",
    "    elif choice == \"4\":\n",
    "        index = int(input(\"Enter the index of the contact to delete: \")) - 1\n",
    "        delete_contact(index)\n",
    "    elif choice == \"5\":\n",
    "        filename = input(\"Enter the filename to save contacts: \")\n",
    "        save_contacts_to_file(filename)\n",
    "    elif choice == \"6\":\n",
    "        filename = input(\"Enter the filename to load contacts: \")\n",
    "        load_contacts_from_file(filename)\n",
    "    elif choice == \"7\":\n",
    "        print(\"Goodbye!\")\n",
    "        break\n",
    "    else:\n",
    "        print(\"Invalid choice. Please enter a valid option (1-7).\")\n",
    "\n",
    "# After running the program, you can interact with the contact management system by choosing various options.\n"
   ]
  },
  {
   "cell_type": "code",
   "execution_count": null,
   "id": "ef97d99a",
   "metadata": {},
   "outputs": [],
   "source": []
  }
 ],
 "metadata": {
  "kernelspec": {
   "display_name": "Python 3 (ipykernel)",
   "language": "python",
   "name": "python3"
  },
  "language_info": {
   "codemirror_mode": {
    "name": "ipython",
    "version": 3
   },
   "file_extension": ".py",
   "mimetype": "text/x-python",
   "name": "python",
   "nbconvert_exporter": "python",
   "pygments_lexer": "ipython3",
   "version": "3.10.7"
  }
 },
 "nbformat": 4,
 "nbformat_minor": 5
}
